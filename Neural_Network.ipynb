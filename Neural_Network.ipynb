{
 "cells": [
  {
   "cell_type": "code",
   "execution_count": 2,
   "metadata": {},
   "outputs": [
    {
     "name": "stdout",
     "output_type": "stream",
     "text": [
      "Rows to train: 46666\n",
      "Rows to test: 23334\n",
      "Parametros cargados desde 'Weights_&_Bias\\params_16.npz'.\n"
     ]
    },
    {
     "name": "stderr",
     "output_type": "stream",
     "text": [
      "Training:   0%|          | 0/3000 [00:00<?, ?iteration/s]"
     ]
    },
    {
     "name": "stdout",
     "output_type": "stream",
     "text": [
      "Iter 0, Approx accuracy: test(sample): 96.7000%, train(sample): 97.6000%\n"
     ]
    },
    {
     "name": "stderr",
     "output_type": "stream",
     "text": [
      "Training:   0%|          | 1/3000 [00:01<1:00:44,  1.22s/iteration]"
     ]
    },
    {
     "name": "stdout",
     "output_type": "stream",
     "text": [
      "Iter 0, Precision of test(sample): 96.4700%, Precision of train(sample): 97.9550%\n"
     ]
    },
    {
     "name": "stderr",
     "output_type": "stream",
     "text": [
      "Training:   7%|▋         | 201/3000 [02:35<34:22,  1.36iteration/s]"
     ]
    },
    {
     "name": "stdout",
     "output_type": "stream",
     "text": [
      "Iter 200, Approx accuracy: test(sample): 96.7000%, train(sample): 98.0000%\n"
     ]
    },
    {
     "name": "stderr",
     "output_type": "stream",
     "text": [
      "Training:  13%|█▎        | 401/3000 [05:21<37:55,  1.14iteration/s]"
     ]
    },
    {
     "name": "stdout",
     "output_type": "stream",
     "text": [
      "Iter 400, Approx accuracy: test(sample): 96.7000%, train(sample): 98.1000%\n"
     ]
    },
    {
     "name": "stderr",
     "output_type": "stream",
     "text": [
      "Training:  20%|██        | 601/3000 [08:25<32:01,  1.25iteration/s]"
     ]
    },
    {
     "name": "stdout",
     "output_type": "stream",
     "text": [
      "Iter 600, Approx accuracy: test(sample): 96.8000%, train(sample): 98.1000%\n"
     ]
    },
    {
     "name": "stderr",
     "output_type": "stream",
     "text": [
      "Training:  27%|██▋       | 801/3000 [11:14<29:20,  1.25iteration/s]"
     ]
    },
    {
     "name": "stdout",
     "output_type": "stream",
     "text": [
      "Iter 800, Approx accuracy: test(sample): 96.8000%, train(sample): 98.2000%\n"
     ]
    },
    {
     "name": "stderr",
     "output_type": "stream",
     "text": [
      "Training:  33%|███▎      | 1000/3000 [13:58<26:14,  1.27iteration/s]"
     ]
    },
    {
     "name": "stdout",
     "output_type": "stream",
     "text": [
      "Iter 1000, Approx accuracy: test(sample): 96.8000%, train(sample): 98.4000%\n"
     ]
    },
    {
     "name": "stderr",
     "output_type": "stream",
     "text": [
      "Training:  33%|███▎      | 1001/3000 [13:59<31:32,  1.06iteration/s]"
     ]
    },
    {
     "name": "stdout",
     "output_type": "stream",
     "text": [
      "Iter 1000, Precision of test(sample): 96.7150%, Precision of train(sample): 98.4400%\n"
     ]
    },
    {
     "name": "stderr",
     "output_type": "stream",
     "text": [
      "Training:  40%|████      | 1201/3000 [16:49<25:24,  1.18iteration/s]"
     ]
    },
    {
     "name": "stdout",
     "output_type": "stream",
     "text": [
      "Iter 1200, Approx accuracy: test(sample): 96.8000%, train(sample): 98.3000%\n"
     ]
    },
    {
     "name": "stderr",
     "output_type": "stream",
     "text": [
      "Training:  47%|████▋     | 1401/3000 [19:46<22:53,  1.16iteration/s]"
     ]
    },
    {
     "name": "stdout",
     "output_type": "stream",
     "text": [
      "Iter 1400, Approx accuracy: test(sample): 97.0000%, train(sample): 98.5000%\n"
     ]
    },
    {
     "name": "stderr",
     "output_type": "stream",
     "text": [
      "Training:  53%|█████▎    | 1601/3000 [22:43<19:08,  1.22iteration/s]"
     ]
    },
    {
     "name": "stdout",
     "output_type": "stream",
     "text": [
      "Iter 1600, Approx accuracy: test(sample): 97.2000%, train(sample): 98.6000%\n"
     ]
    },
    {
     "name": "stderr",
     "output_type": "stream",
     "text": [
      "Training:  60%|██████    | 1801/3000 [25:27<15:31,  1.29iteration/s]"
     ]
    },
    {
     "name": "stdout",
     "output_type": "stream",
     "text": [
      "Iter 1800, Approx accuracy: test(sample): 97.2000%, train(sample): 98.6000%\n"
     ]
    },
    {
     "name": "stderr",
     "output_type": "stream",
     "text": [
      "Training:  67%|██████▋   | 2000/3000 [28:00<12:51,  1.30iteration/s]"
     ]
    },
    {
     "name": "stdout",
     "output_type": "stream",
     "text": [
      "Iter 2000, Approx accuracy: test(sample): 97.1000%, train(sample): 98.6000%\n"
     ]
    },
    {
     "name": "stderr",
     "output_type": "stream",
     "text": [
      "Training:  67%|██████▋   | 2001/3000 [28:01<15:11,  1.10iteration/s]"
     ]
    },
    {
     "name": "stdout",
     "output_type": "stream",
     "text": [
      "Iter 2000, Precision of test(sample): 96.9300%, Precision of train(sample): 98.7800%\n"
     ]
    },
    {
     "name": "stderr",
     "output_type": "stream",
     "text": [
      "Training:  73%|███████▎  | 2201/3000 [30:35<10:03,  1.32iteration/s]"
     ]
    },
    {
     "name": "stdout",
     "output_type": "stream",
     "text": [
      "Iter 2200, Approx accuracy: test(sample): 97.1000%, train(sample): 98.6000%\n"
     ]
    },
    {
     "name": "stderr",
     "output_type": "stream",
     "text": [
      "Training:  80%|████████  | 2401/3000 [33:04<07:22,  1.35iteration/s]"
     ]
    },
    {
     "name": "stdout",
     "output_type": "stream",
     "text": [
      "Iter 2400, Approx accuracy: test(sample): 97.1000%, train(sample): 98.7000%\n"
     ]
    },
    {
     "name": "stderr",
     "output_type": "stream",
     "text": [
      "Training:  87%|████████▋ | 2601/3000 [35:33<04:47,  1.39iteration/s]"
     ]
    },
    {
     "name": "stdout",
     "output_type": "stream",
     "text": [
      "Iter 2600, Approx accuracy: test(sample): 97.1000%, train(sample): 98.8000%\n"
     ]
    },
    {
     "name": "stderr",
     "output_type": "stream",
     "text": [
      "Training:  93%|█████████▎| 2801/3000 [38:04<02:48,  1.18iteration/s]"
     ]
    },
    {
     "name": "stdout",
     "output_type": "stream",
     "text": [
      "Iter 2800, Approx accuracy: test(sample): 97.1000%, train(sample): 98.8000%\n"
     ]
    },
    {
     "name": "stderr",
     "output_type": "stream",
     "text": [
      "Training: 100%|██████████| 3000/3000 [40:44<00:00,  1.23iteration/s]\n"
     ]
    },
    {
     "name": "stdout",
     "output_type": "stream",
     "text": [
      "Final precision of test: 96.9700%, Final Precision of train: 98.9100%\n",
      "Parametros guardados en 'Weights_&_Bias\\params_17.npz'.\n"
     ]
    }
   ],
   "source": [
    "from sklearn.model_selection import train_test_split\n",
    "from sklearn.datasets import fetch_openml\n",
    "import matplotlib.pyplot as plt\n",
    "from tqdm import tqdm\n",
    "import pandas as pd\n",
    "import numpy as np\n",
    "import os\n",
    "\n",
    "# Load data set\n",
    "mnist = fetch_openml('mnist_784', version=1)\n",
    "X, Y = mnist['data'] / 255, mnist['target']\n",
    "\n",
    "# Split the data set into training and test sets.\n",
    "X_train, X_test, Y_train, Y_test = train_test_split(X, Y, test_size=1 / 3, random_state=42)\n",
    "n = X_train.shape[0]\n",
    "print(f\"Rows to train: {n}\")\n",
    "m = X_test.shape[0]\n",
    "print(f\"Rows to test: {m}\")\n",
    "\n",
    "# Neural network parameters\n",
    "L = 0.1\n",
    "num_iterations = 3_000\n",
    "batch_size = 32_768\n",
    "\n",
    "user_choice = input(\"Load old parameters (c) or train from scratch (e)?\")\n",
    "\n",
    "#! Initializing the neural network parameters =============================================== \n",
    "# If you want to know which graph it corresponds to, look at the graph title.\n",
    "\n",
    "#model_params_file = os.path.join('Weights_&_Bias', 'params_0.npz') # Final precision of test: 67.2851%, Final Precision of train: 72.3632%\n",
    "#model_params_file = os.path.join('Weights_&_Bias', 'params_1.npz') # Final precision of test: 90.5761%, Final Precision of train: 97.9492%\n",
    "#model_params_file = os.path.join('Weights_&_Bias', 'params_2.npz') # Final precision of test: 44.2382%, Final Precision of train: 44.0429%\n",
    "#model_params_file = os.path.join('Weights_&_Bias', 'params_3.npz') # Final precision of test: 90.9175%, Final Precision of train: 100.0000%, created from params_1\n",
    "#model_params_file = os.path.join('Weights_&_Bias', 'params_4.npz') # Final precision of test: 91.2597%, Final Precision of train: 100.0000%, created from params_3\n",
    "#model_params_file = os.path.join('Weights_&_Bias', 'params_5.npz') # Final precision of test: 93.8964%, Final Precision of train: 100.0000%, created from params_4\n",
    "#model_params_file = os.path.join('Weights_&_Bias', 'params_6.npz') # Final precision of test: 94.8730%, Final Precision of train: 100.0000%, created from params_5\n",
    "#model_params_file = os.path.join('Weights_&_Bias', 'params_7.npz') # Final precision of test: 70.3125%, Final Precision of train: 100.0000%, L = 0.01, batch_size = 128, num_iterations = 10_000\n",
    "#model_params_file = os.path.join('Weights_&_Bias', 'params_8.npz') # Final precision of test: 76.5625%, Final Precision of train: 100.0000%, L = 0.02, batch_size = 256, num_iterations = 8_000\n",
    "#model_params_file = os.path.join('Weights_&_Bias', 'params_9.npz') # Final precision of test: 86.7188%, Final Precision of train: 99.1211%, L = 0.02, batch_size = 1024, num_iterations= 4_000\n",
    "#model_params_file = os.path.join('Weights_&_Bias', 'params_10.npz') # Final precision of test: 87.9883%, Final Precision of train: 96.7285% L = 0.03, batch_size = 2048, num_iterations= 3_000\n",
    "#model_params_file = os.path.join('Weights_&_Bias', 'params_11.npz') # Final precision of test: 90.6982%, Final Precision of train: 98.9014% L = 0.03, batch_size = 4096, num_iterations= 6_000 (Iter 5600, Precision of test: 90.7471%, Precision of train: 98.6328%)\n",
    "#model_params_file = os.path.join('Weights_&_Bias', 'params_12.npz') # Final precision of test: 84.3750%, Final Precision of train: 100.0000% L = 0.02, batch_size = 512, num_iterations= 6_000 (Iter 4000, Precision of test: 84.9609%, Precision of train: 100.0000%)\n",
    "#model_params_file = os.path.join('Weights_&_Bias', 'params_13.npz') # Final precision of test: 93.6646%, Final Precision of train: 98.7671% L = 0.03, batch_size = 8_192, num_iterations= 8_000\n",
    "#model_params_file = os.path.join('Weights_&_Bias', 'params_14.npz') # Final precision of test: 94.0552%, Final Precision of train: 99.7314% L = 0.08, batch_size = 8_192, num_iterations= 4_000\n",
    "#model_params_file = os.path.join('Weights_&_Bias', 'params_15.npz') # \"\"Final precision of test: 96.0000%, Final Precision of train: 97.0000%\"\" L = 0.1, batch_size = 16_384, num_iterations= 4_000\n",
    "model_params_file = os.path.join('Weights_&_Bias', 'params_16.npz') # Final precision of test: 96.4650%, Final Precision of train: 97.9550% L = 0.1, batch_size = 32_768, num_iterations= 4_000\n",
    "#model_params_file = os.path.join('Weights_&_Bias', 'params_17.npz') # Final precision of test: 96.9700%, Final Precision of train: 98.9100% L = 0.1, batch_size = 32_768, num_iterations= 3_000 created from params_16\n",
    "\n",
    "#! Initializing the neural network parameters =============================================== \n",
    "\n",
    "# Initialize weights and bias\n",
    "if user_choice.lower() == 'c' and os.path.exists(model_params_file):\n",
    "    # Load weights and biases from the .npz file\n",
    "    try:\n",
    "        params = np.load(model_params_file)\n",
    "        w_1 = params['w_1']\n",
    "        b_1 = params['b_1']\n",
    "        w_2 = params['w_2']\n",
    "        b_2 = params['b_2']\n",
    "        w_3 = params['w_3']\n",
    "        b_3 = params['b_3']\n",
    "        print(f\"Parameters loaded from '{model_params_file}'.\")\n",
    "    except Exception as e:\n",
    "        print(f\"Error loading parameters: {e}\")\n",
    "        np.random.seed(13)\n",
    "        \n",
    "        w_1 = np.random.randn(256, 784) * 0.01\n",
    "        w_2 = np.random.randn(128, 256) * 0.01\n",
    "        w_3 = np.random.randn(10, 128) * 0.01\n",
    "        b_1 = np.random.rand(256, 1)\n",
    "        b_2 = np.random.rand(128, 1)\n",
    "        b_3 = np.random.rand(10, 1)\n",
    "        print(\"Randomly initialized parameters.\")\n",
    "else:\n",
    "    np.random.seed(13)\n",
    "    w_1 = np.random.randn(256, 784) * 0.01\n",
    "    w_2 = np.random.randn(128, 256) * 0.01\n",
    "    w_3 = np.random.randn(10, 128) * 0.01\n",
    "    b_1 = np.random.rand(256, 1)\n",
    "    b_2 = np.random.rand(128, 1)\n",
    "    b_3 = np.random.rand(10, 1)\n",
    "    print(\"Randomly initialized parameters.\")\n",
    "\n",
    "# Activation functions\n",
    "relu = lambda x: np.maximum(0, x)\n",
    "softmax = lambda x: np.exp(x) / np.sum(np.exp(x), axis=0)\n",
    "\n",
    "def forward_prop(X):\n",
    "    Z1 = w_1 @ X + b_1\n",
    "    A1 = relu(Z1)\n",
    "    Z2 = w_2 @ A1 + b_2\n",
    "    A2 = relu(Z2)\n",
    "    Z3 = w_3 @ A2 + b_3\n",
    "    A3 = softmax(Z3)\n",
    "    return Z1, A1, Z2, A2, Z3, A3\n",
    "\n",
    "# Derivatives of the activation functions\n",
    "d_relu = lambda x: x > 0\n",
    "\n",
    "def one_hot(Y, num_classes):\n",
    "    one_hot_Y = np.zeros((num_classes, Y.size))\n",
    "    one_hot_Y[Y.astype(int), np.arange(Y.size)] = 1\n",
    "    return one_hot_Y\n",
    "\n",
    "def backward_prop(Z1, A1, Z2, A2, Z3, A3, X, Y):\n",
    "    # Convert Y to one-hot encoding\n",
    "    one_hot_Y = one_hot(Y, A3.shape[0])\n",
    "    \n",
    "    dCE_dZ3 = A3 - one_hot_Y\n",
    "    dZ3_dW3 = A2  \n",
    "    dZ3_dB3 = 1\n",
    "    dZ3_dA2 = w_3\n",
    "    dA2_dZ2 = d_relu(Z2)\n",
    "    dZ2_dW2 = A1\n",
    "    dZ2_dB2 = 1\n",
    "    dZ2_dA1 = w_2\n",
    "    dA1_dZ1 = d_relu(Z1)\n",
    "    dZ1_dW1 = X\n",
    "    dZ1_dB1 = 1\n",
    "\n",
    "    # Calculate gradients for W3 and b3\n",
    "    dCE_dW3 = dCE_dZ3 @ dZ3_dW3.T / X.shape[1]\n",
    "    dCE_dB3 = np.sum(dCE_dZ3, axis=1, keepdims=True) / X.shape[1]\n",
    "\n",
    "    dCE_dA2 = dZ3_dA2.T @ dCE_dZ3\n",
    "    dCE_dZ2 = dCE_dA2 * dA2_dZ2\n",
    "\n",
    "    # Calculate gradients for W2 and b2\n",
    "    dCE_dW2 = dCE_dZ2 @ dZ2_dW2.T / X.shape[1]\n",
    "    dCE_dB2 = np.sum(dCE_dZ2, axis=1, keepdims=True) / X.shape[1]\n",
    "\n",
    "    dCE_dA1 = dZ2_dA1.T @ dCE_dZ2\n",
    "    dCE_dZ1 = dCE_dA1 * dA1_dZ1\n",
    "\n",
    "    # Calculate gradients for W1 and b1\n",
    "    dCE_dW1 = dCE_dZ1 @ dZ1_dW1.T / X.shape[1]\n",
    "    dCE_dB1 = np.sum(dCE_dA1, axis=1, keepdims=True) / X.shape[1]\n",
    "\n",
    "    return dCE_dW1, dCE_dB1, dCE_dW2, dCE_dB2, dCE_dW3, dCE_dB3\n",
    "\n",
    "def calculate_accuracy(X_data, Y_data, sample_size):\n",
    "    idx = np.random.choice(len(X_data), sample_size, replace=False)\n",
    "    X_sample = X_data.iloc[idx].to_numpy().transpose()  # Transpose to (784, batch_size)\n",
    "    Y_sample = Y_data.iloc[idx].to_numpy()\n",
    "    _, _, _, _, _, A3 = forward_prop(X_sample)\n",
    "    predictions = np.argmax(A3, axis=0)\n",
    "    accuracy = np.mean(predictions == Y_sample.astype(int))\n",
    "    return accuracy\n",
    "\n",
    "# Gradient descent training\n",
    "accuracy_train_l = []\n",
    "accuracy_test_l = []\n",
    "for i in tqdm(range(num_iterations), desc=\"Training\", unit=\"iteration\"):\n",
    "    np.random.seed(13)\n",
    "    idx = np.random.choice(n, batch_size, replace=False)\n",
    "    X_train_batch = X_train.iloc[idx].to_numpy().transpose()  # Transpose to (784, batch_size)\n",
    "    Y_train_batch = Y_train.iloc[idx].to_numpy()\n",
    "    #print(X_train_batch.shape)\n",
    "    #print(Y_train_batch.shape)\n",
    "\n",
    "    Z1, A1, Z2, A2, Z3, A3 = forward_prop(X_train_batch)\n",
    "\n",
    "    dW1, dB1, dW2, dB2, dW3, dB3 = backward_prop(Z1, A1, Z2, A2, Z3, A3, X_train_batch, Y_train_batch)\n",
    "\n",
    "    # Update weights and bias\n",
    "    w_1 -= L * dW1\n",
    "    b_1 -= L * dB1\n",
    "    w_2 -= L * dW2\n",
    "    b_2 -= L * dB2\n",
    "    w_3 -= L * dW3\n",
    "    b_3 -= L * dB3\n",
    "\n",
    "    sample_size = 1000\n",
    "    accuracy_test = calculate_accuracy(X_test, Y_test, sample_size)\n",
    "    accuracy_train = calculate_accuracy(X_train, Y_train, sample_size)\n",
    "    accuracy_test_l.append(accuracy_test)\n",
    "    accuracy_train_l.append(accuracy_train)\n",
    "\n",
    "    # When you look at the accuracy of test and train it is better to use large sample_size because if you use small sample_size like 500 the accuracy can be off by 3.00% or more.\n",
    "    if i % 200 == 0:\n",
    "        print(f\"Iter {i}, Approx accuracy: test(sample): {accuracy_test * 100:.4f}%, train(sample): {accuracy_train * 100:.4f}%\") # Remember that as the sample is 1000 it is not exact but it is quite close, that's also why the numbers are so round.\n",
    "    if i % 1000 == 0:\n",
    "        sample_size = 20_000\n",
    "        accuracy_test = calculate_accuracy(X_test, Y_test, sample_size)\n",
    "        accuracy_train = calculate_accuracy(X_train, Y_train, sample_size)\n",
    "        print(f\"Iter {i}, Precision of test(sample): {accuracy_test * 100:.4f}%, Precision of train(sample): {accuracy_train * 100:.4f}%\")\n",
    "\n",
    "sample_size = 20_000\n",
    "accuracy_test = calculate_accuracy(X_test, Y_test, sample_size)\n",
    "accuracy_train = calculate_accuracy(X_train, Y_train, sample_size)\n",
    "print(f\"Final precision of test: {accuracy_test * 100:.4f}%, Final Precision of train: {accuracy_train * 100:.4f}%\")\n",
    "\n",
    "\n",
    "# Save Weights and Bias ===================================================================================================================================================\n",
    "\n",
    "folder_name = \"Weights_&_Bias\"\n",
    "os.makedirs(folder_name, exist_ok=True)\n",
    "\n",
    "user_choice = input(\"Save training data? (y/n) \")\n",
    "\n",
    "if user_choice.lower() == 'y':\n",
    "    i = 0\n",
    "    new_model_params_file = os.path.join(folder_name, f\"params_{i}.npz\") # se fija si existe el nombre y de ahi le cambia al nombre de abajo hasta que no exista\n",
    "    while os.path.exists(new_model_params_file):\n",
    "        i += 1\n",
    "        new_model_params_file = os.path.join(folder_name, f\"params_{i}.npz\")\n",
    "\n",
    "    np.savez(new_model_params_file, w_1=w_1, b_1=b_1, w_2=w_2, b_2=b_2, w_3=w_3, b_3=b_3)\n",
    "    print(f\"Parameters stored in '{new_model_params_file}'.\")\n",
    "elif user_choice.lower() == 'n':\n",
    "    print(\"Training data were not saved.\")\n",
    "else:\n",
    "    print(\"Invalid option. Training data was not saved.\")\n"
   ]
  },
  {
   "cell_type": "code",
   "execution_count": 3,
   "metadata": {},
   "outputs": [
    {
     "data": {
      "image/png": "[encoded data removed]",
      "text/plain": [
       "<Figure size 1000x800 with 1 Axes>"
      ]
     },
     "metadata": {},
     "output_type": "display_data"
    }
   ],
   "source": [
    "def accuracy_graphic(L, iters, batch, train_l, test_l):\n",
    "\n",
    "    folder_name = \"graphs\"\n",
    "    os.makedirs(folder_name, exist_ok=True)\n",
    "\n",
    "    fmt_train = {'color': 'tab:blue', 'ls': 'solid', 'lw': 3}\n",
    "    fmt_test = {'color': 'tab:orange', 'ls': 'solid', 'lw': 3}\n",
    "    fig, ax = plt.subplots(figsize=(10, 8))\n",
    "    ax.plot(range(iters), train_l, label='Train', **fmt_train)\n",
    "    ax.plot(range(iters), test_l, label='Test', **fmt_test)\n",
    "    ax.grid(which='both')\n",
    "    ax.legend()\n",
    "    ax.set_title(f'Accuracy Over Iterations\\nLearning Rate: {L} | Batch Size: {batch}')\n",
    "    ax.set_xlabel('Iteration')\n",
    "    ax.set_ylabel('Accuracy')\n",
    "\n",
    "    # Save the figure in the \"graphs\" folder\n",
    "    file_path = os.path.join(folder_name, f\"accuracy_{L}_{batch}.png\")\n",
    "    plt.savefig(file_path)\n",
    "    plt.show()\n",
    "\n",
    "accuracy_graphic(L, num_iterations, batch_size, accuracy_train_l, accuracy_test_l)\n"
   ]
  },
  {
   "cell_type": "code",
   "execution_count": 53,
   "metadata": {},
   "outputs": [
    {
     "name": "stdout",
     "output_type": "stream",
     "text": [
      "Draw a number and press 'Enter' to predict it.\n",
      "Parameters loaded from 'Weights_&_Bias\\params_15.npz'.\n",
      "The image is probably a: 4\n"
     ]
    },
    {
     "data": {
      "image/png": "[encoded data removed]",
      "text/plain": [
       "<Figure size 640x480 with 1 Axes>"
      ]
     },
     "metadata": {},
     "output_type": "display_data"
    }
   ],
   "source": [
    "import matplotlib.pyplot as plt\n",
    "import numpy as np\n",
    "import cv2\n",
    "import os\n",
    "\n",
    "#! Initializing the neural network parameters =============================================== \n",
    "# If you want to know which graph it corresponds to, look at the graph title.\n",
    "\n",
    "#model_params_file = os.path.join('Weights_&_Bias', 'params_0.npz') # Final test accuracy: 67.2851%, Final train accuracy: 72.3632%\n",
    "#model_params_file = os.path.join('Weights_&_Bias', 'params_1.npz') # Final test accuracy: 90.5761%, Final train accuracy: 97.9492%\n",
    "#model_params_file = os.path.join('Weights_&_Bias', 'params_2.npz') # Final test accuracy: 44.2382%, Final train accuracy: 44.0429%\n",
    "#model_params_file = os.path.join('Weights_&_Bias', 'params_3.npz') # Final test accuracy: 90.9175%, Final train accuracy: 100.0000%, created from params_1\n",
    "#model_params_file = os.path.join('Weights_&_Bias', 'params_4.npz') # Final test accuracy: 91.2597%, Final train accuracy: 100.0000%, created from params_3\n",
    "#model_params_file = os.path.join('Weights_&_Bias', 'params_5.npz') # Final test accuracy: 93.8964%, Final train accuracy: 100.0000%, created from params_4\n",
    "#model_params_file = os.path.join('Weights_&_Bias', 'params_6.npz') # Final test accuracy: 94.8730%, Final train accuracy: 100.0000%, created from params_5\n",
    "#model_params_file = os.path.join('Weights_&_Bias', 'params_7.npz') # Final test accuracy: 70.3125%, Final train accuracy: 100.0000%, L = 0.01, batch_size = 128, num_iterations = 10_000\n",
    "#model_params_file = os.path.join('Weights_&_Bias', 'params_8.npz') # Final test accuracy: 76.5625%, Final train accuracy: 100.0000%, L = 0.02, batch_size = 256, num_iterations = 8_000\n",
    "#model_params_file = os.path.join('Weights_&_Bias', 'params_9.npz') # Final test accuracy: 86.7188%, Final train accuracy: 99.1211%, L = 0.02, batch_size = 1024, num_iterations= 4_000\n",
    "#model_params_file = os.path.join('Weights_&_Bias', 'params_10.npz') # Final test accuracy: 87.9883%, Final train accuracy: 96.7285% L = 0.03, batch_size = 2048, num_iterations= 3_000\n",
    "#model_params_file = os.path.join('Weights_&_Bias', 'params_11.npz') # Final test accuracy: 90.6982%, Final train accuracy: 98.9014% L = 0.03, batch_size = 4096, num_iterations= 6_000 (Iter 5600, Test accuracy: 90.7471%, Train accuracy: 98.6328%)\n",
    "#model_params_file = os.path.join('Weights_&_Bias', 'params_12.npz') # Final test accuracy: 84.3750%, Final train accuracy: 100.0000% L = 0.02, batch_size = 512, num_iterations= 6_000 (Iter 4000, Test accuracy: 84.9609%, Train accuracy: 100.0000%)\n",
    "#model_params_file = os.path.join('Weights_&_Bias', 'params_13.npz') # Final test accuracy: 93.6646%, Final train accuracy: 98.7671% L = 0.03, batch_size = 8_192, num_iterations= 8_000\n",
    "#model_params_file = os.path.join('Weights_&_Bias', 'params_14.npz') # Final test accuracy: 94.0552%, Final train accuracy: 99.7314% L = 0.08, batch_size = 8_192, num_iterations= 4_000\n",
    "model_params_file = os.path.join('Weights_&_Bias', 'params_15.npz') # \"\"Final test accuracy: 96.0000%, Final train accuracy: 97.0000%\"\" L = 0.1, batch_size = 16_384, num_iterations= 4_000\n",
    "#model_params_file = os.path.join('Weights_&_Bias', 'params_16.npz') # Final test accuracy: 96.4650%, Final train accuracy: 97.9550% L = 0.1, batch_size = 32_768, num_iterations= 4_000\n",
    "#model_params_file = os.path.join('Weights_&_Bias', 'params_17.npz') # Final test accuracy: 96.9700%, Final train accuracy: 98.9100% L = 0.1, batch_size = 32_768, num_iterations= 3_000 created from params_16\n",
    "\n",
    "#! Initializing the neural network parameters =============================================== \n",
    "\n",
    "def load_model_params(file_path):\n",
    "    if os.path.exists(file_path):\n",
    "        try:\n",
    "            params = np.load(file_path)\n",
    "            w_1 = params['w_1']\n",
    "            b_1 = params['b_1']\n",
    "            w_2 = params['w_2']\n",
    "            b_2 = params['b_2']\n",
    "            w_3 = params['w_3']\n",
    "            b_3 = params['b_3']\n",
    "            print(f\"Parameters loaded from '{file_path}'.\")\n",
    "            return w_1, b_1, w_2, b_2, w_3, b_3\n",
    "        except Exception as e:\n",
    "            raise RuntimeError(f\"Error loading parameters: {e}\")\n",
    "    else:\n",
    "        raise FileNotFoundError(f\"The file '{file_path}' does not exist.\")\n",
    "\n",
    "relu = lambda x: np.maximum(0, x)\n",
    "softmax = lambda x: np.exp(x) / np.sum(np.exp(x), axis=0)\n",
    "\n",
    "def forward_prop(X, w_1, b_1, w_2, b_2, w_3, b_3): # This works because the matrices are already created in the .npz file\n",
    "    Z1 = w_1 @ X + b_1\n",
    "    A1 = relu(Z1)\n",
    "    Z2 = w_2 @ A1 + b_2\n",
    "    A2 = relu(Z2)\n",
    "    Z3 = w_3 @ A2 + b_3\n",
    "    A3 = softmax(Z3)\n",
    "    return A1, A2, A3\n",
    "\n",
    "# Create a window to draw\n",
    "drawing = False  # Control the drawing state\n",
    "last_point = None  # Track the last point drawn\n",
    "\n",
    "# Mouse callback function\n",
    "def mouse_callback(event, x, y, flags, param):\n",
    "    global drawing, last_point\n",
    "    if event == cv2.EVENT_LBUTTONDOWN:\n",
    "        drawing = True\n",
    "        last_point = (x, y)\n",
    "    elif event == cv2.EVENT_MOUSEMOVE:\n",
    "        if drawing:\n",
    "            cv2.line(canvas, last_point, (x, y), (255, 255, 255), 30)\n",
    "            last_point = (x, y)\n",
    "    elif event == cv2.EVENT_LBUTTONUP:\n",
    "        drawing = False\n",
    "        last_point = None\n",
    "\n",
    "# Initialize a black canvas (200x200 pixels)\n",
    "canvas = np.zeros((200, 200), dtype=np.uint8)\n",
    "\n",
    "# Create window and register the mouse callback\n",
    "cv2.namedWindow(\"Draw a Number\")\n",
    "cv2.setMouseCallback(\"Draw a Number\", mouse_callback)\n",
    "\n",
    "print(\"Draw a number and press 'Enter' to predict it.\")\n",
    "\n",
    "while True:\n",
    "    cv2.imshow(\"Draw a Number\", canvas)\n",
    "    key = cv2.waitKey(1) & 0xFF  # Detect key presses\n",
    "    if key == 13:  # Enter key\n",
    "        break\n",
    "    elif key == 27:  # Esc key clears the canvas\n",
    "        canvas.fill(0)\n",
    "\n",
    "cv2.destroyAllWindows()\n",
    "\n",
    "# Preprocess the drawn image for prediction\n",
    "def preprocess_image(img):\n",
    "    img_resized = cv2.resize(img, (20, 20))  # Resize to 20x20 pixels\n",
    "    img_with_border = np.zeros((28, 28), dtype=np.uint8)\n",
    "    img_with_border[4:24, 4:24] = img_resized  # Center the resized image in a 28x28 border\n",
    "    img_with_border = img_with_border / 255.0  # Normalize to range 0-1\n",
    "    img_with_border = img_with_border.flatten()  # Flatten to a vector (784,)\n",
    "    return img_with_border\n",
    "\n",
    "# Process and reshape the image\n",
    "processed_image = preprocess_image(canvas)\n",
    "processed_image = processed_image.reshape(1, -1)  # Shape as (1, 784) for prediction\n",
    "\n",
    "w_1, b_1, w_2, b_2, w_3, b_3 = load_model_params(model_params_file)\n",
    "\n",
    "# Predict the digit using the neural network\n",
    "_, _, A3 = forward_prop(processed_image.T, w_1, b_1, w_2, b_2, w_3, b_3)  # Make sure to transpose for the correct shape (784, 1)\n",
    "prediction = np.argmax(A3, axis=0)  # Get the class with the highest probability\n",
    "print(f\"The image is probably a: {prediction[0]}\")\n",
    "\n",
    "# Display the processed image\n",
    "plt.imshow(processed_image.reshape(28, 28), cmap=\"gray\")\n",
    "plt.title(f\"Prediction: {prediction[0]}\")\n",
    "plt.show()\n"
   ]
  },
  {
   "cell_type": "code",
   "execution_count": 2,
   "metadata": {},
   "outputs": [
    {
     "name": "stdout",
     "output_type": "stream",
     "text": [
      "Parameters loaded from 'Weights_&_Bias\\params_15.npz'.\n",
      "The image is probably a: 0\n"
     ]
    },
    {
     "data": {
      "image/png": "[encoded data removed]",
      "text/plain": [
       "<Figure size 640x480 with 1 Axes>"
      ]
     },
     "metadata": {},
     "output_type": "display_data"
    },
    {
     "name": "stdout",
     "output_type": "stream",
     "text": [
      "The image is probably a: 1\n"
     ]
    },
    {
     "data": {
      "image/png": "[encoded data removed]",
      "text/plain": [
       "<Figure size 640x480 with 1 Axes>"
      ]
     },
     "metadata": {},
     "output_type": "display_data"
    },
    {
     "name": "stdout",
     "output_type": "stream",
     "text": [
      "The image is probably a: 2\n"
     ]
    },
    {
     "data": {
      "image/png": "[encoded data removed]",
      "text/plain": [
       "<Figure size 640x480 with 1 Axes>"
      ]
     },
     "metadata": {},
     "output_type": "display_data"
    },
    {
     "name": "stdout",
     "output_type": "stream",
     "text": [
      "The image is probably a: 3\n"
     ]
    },
    {
     "data": {
      "image/png": "[encoded data removed]",
      "text/plain": [
       "<Figure size 640x480 with 1 Axes>"
      ]
     },
     "metadata": {},
     "output_type": "display_data"
    },
    {
     "name": "stdout",
     "output_type": "stream",
     "text": [
      "The image is probably a: 4\n"
     ]
    },
    {
     "data": {
      "image/png": "[encoded data removed]",
      "text/plain": [
       "<Figure size 640x480 with 1 Axes>"
      ]
     },
     "metadata": {},
     "output_type": "display_data"
    },
    {
     "name": "stdout",
     "output_type": "stream",
     "text": [
      "The image is probably a: 5\n"
     ]
    },
    {
     "data": {
      "image/png": "[encoded data removed]",
      "text/plain": [
       "<Figure size 640x480 with 1 Axes>"
      ]
     },
     "metadata": {},
     "output_type": "display_data"
    },
    {
     "name": "stdout",
     "output_type": "stream",
     "text": [
      "The image is probably a: 6\n"
     ]
    },
    {
     "data": {
      "image/png": "[encoded data removed]",
      "text/plain": [
       "<Figure size 640x480 with 1 Axes>"
      ]
     },
     "metadata": {},
     "output_type": "display_data"
    },
    {
     "name": "stdout",
     "output_type": "stream",
     "text": [
      "The image is probably a: 7\n"
     ]
    },
    {
     "data": {
      "image/png": "[encoded data removed]",
      "text/plain": [
       "<Figure size 640x480 with 1 Axes>"
      ]
     },
     "metadata": {},
     "output_type": "display_data"
    },
    {
     "name": "stdout",
     "output_type": "stream",
     "text": [
      "The image is probably a: 8\n"
     ]
    },
    {
     "data": {
      "image/png": "[encoded data removed]",
      "text/plain": [
       "<Figure size 640x480 with 1 Axes>"
      ]
     },
     "metadata": {},
     "output_type": "display_data"
    },
    {
     "name": "stdout",
     "output_type": "stream",
     "text": [
      "The image is probably a: 9\n"
     ]
    },
    {
     "data": {
      "image/png": "[encoded data removed]",
      "text/plain": [
       "<Figure size 640x480 with 1 Axes>"
      ]
     },
     "metadata": {},
     "output_type": "display_data"
    }
   ],
   "source": [
    "import matplotlib.pyplot as plt\n",
    "import numpy as np\n",
    "import cv2\n",
    "import os\n",
    "\n",
    "def load_model_params(file_path):\n",
    "    if os.path.exists(file_path):\n",
    "        try:\n",
    "            params = np.load(file_path)\n",
    "            w_1 = params['w_1']\n",
    "            b_1 = params['b_1']\n",
    "            w_2 = params['w_2']\n",
    "            b_2 = params['b_2']\n",
    "            w_3 = params['w_3']\n",
    "            b_3 = params['b_3']\n",
    "            print(f\"Parameters loaded from '{file_path}'.\")\n",
    "            return w_1, b_1, w_2, b_2, w_3, b_3\n",
    "        except Exception as e:\n",
    "            raise RuntimeError(f\"Error loading parameters: {e}\")\n",
    "    else:\n",
    "        raise FileNotFoundError(f\"The file '{file_path}' does not exist.\")\n",
    "\n",
    "relu = lambda x: np.maximum(0, x)\n",
    "softmax = lambda x: np.exp(x) / np.sum(np.exp(x), axis=0)\n",
    "\n",
    "def forward_prop(X, w_1, b_1, w_2, b_2, w_3, b_3):\n",
    "    Z1 = w_1 @ X + b_1\n",
    "    A1 = relu(Z1)\n",
    "    Z2 = w_2 @ A1 + b_2\n",
    "    A2 = relu(Z2)\n",
    "    Z3 = w_3 @ A2 + b_3\n",
    "    A3 = softmax(Z3)\n",
    "    return A1, A2, A3\n",
    "\n",
    "# Image preprocessing function\n",
    "def preprocess_image(path):\n",
    "    img = cv2.imread(path, cv2.IMREAD_GRAYSCALE) # Load as grayscale\n",
    "    img_resized = cv2.resize(img, (28, 28))      # Resize to 28x28 pixels\n",
    "    img_resized = img_resized / 255.0            # Normalize to range 0-1\n",
    "    img_resized = img_resized.flatten()          # Flatten the image to 784 elements\n",
    "    return img_resized.reshape(784, 1)           # Ensure shape is (784, 1)\n",
    "\n",
    "#! Initializing the neural network parameters =============================================== \n",
    "# If you want to know which graph it corresponds to, look at the graph title.\n",
    "\n",
    "#model_params_file = os.path.join('Weights_&_Bias', 'params_0.npz') # Final test accuracy: 67.2851%, Final train accuracy: 72.3632%\n",
    "#model_params_file = os.path.join('Weights_&_Bias', 'params_1.npz') # Final test accuracy: 90.5761%, Final train accuracy: 97.9492%\n",
    "#model_params_file = os.path.join('Weights_&_Bias', 'params_2.npz') # Final test accuracy: 44.2382%, Final train accuracy: 44.0429%\n",
    "#model_params_file = os.path.join('Weights_&_Bias', 'params_3.npz') # Final test accuracy: 90.9175%, Final train accuracy: 100.0000%, created from params_1\n",
    "#model_params_file = os.path.join('Weights_&_Bias', 'params_4.npz') # Final test accuracy: 91.2597%, Final train accuracy: 100.0000%, created from params_3\n",
    "#model_params_file = os.path.join('Weights_&_Bias', 'params_5.npz') # Final test accuracy: 93.8964%, Final train accuracy: 100.0000%, created from params_4\n",
    "#model_params_file = os.path.join('Weights_&_Bias', 'params_6.npz') # Final test accuracy: 94.8730%, Final train accuracy: 100.0000%, created from params_5\n",
    "#model_params_file = os.path.join('Weights_&_Bias', 'params_7.npz') # Final test accuracy: 70.3125%, Final train accuracy: 100.0000%, L = 0.01, batch_size = 128, num_iterations = 10_000\n",
    "#model_params_file = os.path.join('Weights_&_Bias', 'params_8.npz') # Final test accuracy: 76.5625%, Final train accuracy: 100.0000%, L = 0.02, batch_size = 256, num_iterations = 8_000\n",
    "#model_params_file = os.path.join('Weights_&_Bias', 'params_9.npz') # Final test accuracy: 86.7188%, Final train accuracy: 99.1211%, L = 0.02, batch_size = 1024, num_iterations= 4_000\n",
    "#model_params_file = os.path.join('Weights_&_Bias', 'params_10.npz') # Final test accuracy: 87.9883%, Final train accuracy: 96.7285% L = 0.03, batch_size = 2048, num_iterations= 3_000\n",
    "#model_params_file = os.path.join('Weights_&_Bias', 'params_11.npz') # Final test accuracy: 90.6982%, Final train accuracy: 98.9014% L = 0.03, batch_size = 4096, num_iterations= 6_000 (Iter 5600, Test accuracy: 90.7471%, Train accuracy: 98.6328%)\n",
    "#model_params_file = os.path.join('Weights_&_Bias', 'params_12.npz') # Final test accuracy: 84.3750%, Final train accuracy: 100.0000% L = 0.02, batch_size = 512, num_iterations= 6_000 (Iter 4000, Test accuracy: 84.9609%, Train accuracy: 100.0000%)\n",
    "#model_params_file = os.path.join('Weights_&_Bias', 'params_13.npz') # Final test accuracy: 93.6646%, Final train accuracy: 98.7671% L = 0.03, batch_size = 8_192, num_iterations= 8_000\n",
    "#model_params_file = os.path.join('Weights_&_Bias', 'params_14.npz') # Final test accuracy: 94.0552%, Final train accuracy: 99.7314% L = 0.08, batch_size = 8_192, num_iterations= 4_000\n",
    "model_params_file = os.path.join('Weights_&_Bias', 'params_15.npz') # \"\"Final test accuracy: 96.0000%, Final train accuracy: 97.0000%\"\" L = 0.1, batch_size = 16_384, num_iterations= 4_000\n",
    "#model_params_file = os.path.join('Weights_&_Bias', 'params_16.npz') # Final test accuracy: 96.4650%, Final train accuracy: 97.9550% L = 0.1, batch_size = 32_768, num_iterations= 4_000\n",
    "#model_params_file = os.path.join('Weights_&_Bias', 'params_17.npz') # Final test accuracy: 96.9700%, Final train accuracy: 98.9100% L = 0.1, batch_size = 32_768, num_iterations= 3_000 created from params_16\n",
    "\n",
    "#! Initializing the neural network parameters =============================================== \n",
    "\n",
    "w_1, b_1, w_2, b_2, w_3, b_3 = load_model_params(model_params_file)\n",
    "\n",
    "# Prediction using the neural network\n",
    "for i in range(10):\n",
    "    image_path = f'digits/digitB{i}.png'\n",
    "    processed_image = preprocess_image(image_path)\n",
    "\n",
    "    # Forward propagation to get the prediction\n",
    "    _, _, A3 = forward_prop(processed_image, w_1, b_1, w_2, b_2, w_3, b_3)\n",
    "    prediction = np.argmax(A3, axis=0)  # Get the class with the highest probability\n",
    "\n",
    "    print(f'The image is probably a: {prediction[0]}')\n",
    "\n",
    "    # Visualize the processed image\n",
    "    plt.imshow(processed_image.reshape(28, 28), cmap='gray')\n",
    "    plt.title(f'Prediction: {prediction[0]}')\n",
    "    plt.axis('off')\n",
    "    plt.show()\n"
   ]
  },
  {
   "cell_type": "code",
   "execution_count": 51,
   "metadata": {},
   "outputs": [
    {
     "name": "stdout",
     "output_type": "stream",
     "text": [
      "Parameters loaded from 'Weights_&_Bias\\params_15.npz'.\n",
      "Model accuracy on the MNIST dataset: 96.64%\n"
     ]
    }
   ],
   "source": [
    "from sklearn.datasets import fetch_openml\n",
    "from sklearn.metrics import accuracy_score\n",
    "import pandas as pd\n",
    "import numpy as np\n",
    "import os\n",
    "\n",
    "def load_model_params(file_path):\n",
    "    if os.path.exists(file_path):\n",
    "        try:\n",
    "            params = np.load(file_path)\n",
    "            w_1 = params['w_1']\n",
    "            b_1 = params['b_1']\n",
    "            w_2 = params['w_2']\n",
    "            b_2 = params['b_2']\n",
    "            w_3 = params['w_3']\n",
    "            b_3 = params['b_3']\n",
    "            print(f\"Parameters loaded from '{file_path}'.\")\n",
    "            return w_1, b_1, w_2, b_2, w_3, b_3\n",
    "        except Exception as e:\n",
    "            raise RuntimeError(f\"Error loading parameters: {e}\")\n",
    "    else:\n",
    "        raise FileNotFoundError(f\"The file '{file_path}' does not exist.\")\n",
    "\n",
    "relu = lambda x: np.maximum(0, x)\n",
    "softmax = lambda x: np.exp(x) / np.sum(np.exp(x), axis=0)\n",
    "\n",
    "def forward_prop(X, w_1, b_1, w_2, b_2, w_3, b_3):\n",
    "    Z1 = w_1 @ X + b_1\n",
    "    A1 = relu(Z1)\n",
    "    Z2 = w_2 @ A1 + b_2\n",
    "    A2 = relu(Z2)\n",
    "    Z3 = w_3 @ A2 + b_3\n",
    "    A3 = softmax(Z3)\n",
    "    return A1, A2, A3\n",
    "\n",
    "#! Initializing the neural network parameters =============================================== \n",
    "# If you want to know which graph it corresponds to, look at the graph title.\n",
    "\n",
    "#model_params_file = os.path.join('Weights_&_Bias', 'params_0.npz') # Final test accuracy: 67.2851%, Final train accuracy: 72.3632%\n",
    "#model_params_file = os.path.join('Weights_&_Bias', 'params_1.npz') # Final test accuracy: 90.5761%, Final train accuracy: 97.9492%\n",
    "#model_params_file = os.path.join('Weights_&_Bias', 'params_2.npz') # Final test accuracy: 44.2382%, Final train accuracy: 44.0429%\n",
    "#model_params_file = os.path.join('Weights_&_Bias', 'params_3.npz') # Final test accuracy: 90.9175%, Final train accuracy: 100.0000%, created from params_1\n",
    "#model_params_file = os.path.join('Weights_&_Bias', 'params_4.npz') # Final test accuracy: 91.2597%, Final train accuracy: 100.0000%, created from params_3\n",
    "#model_params_file = os.path.join('Weights_&_Bias', 'params_5.npz') # Final test accuracy: 93.8964%, Final train accuracy: 100.0000%, created from params_4\n",
    "#model_params_file = os.path.join('Weights_&_Bias', 'params_6.npz') # Final test accuracy: 94.8730%, Final train accuracy: 100.0000%, created from params_5\n",
    "#model_params_file = os.path.join('Weights_&_Bias', 'params_7.npz') # Final test accuracy: 70.3125%, Final train accuracy: 100.0000%, L = 0.01, batch_size = 128, num_iterations = 10_000\n",
    "#model_params_file = os.path.join('Weights_&_Bias', 'params_8.npz') # Final test accuracy: 76.5625%, Final train accuracy: 100.0000%, L = 0.02, batch_size = 256, num_iterations = 8_000\n",
    "#model_params_file = os.path.join('Weights_&_Bias', 'params_9.npz') # Final test accuracy: 86.7188%, Final train accuracy: 99.1211%, L = 0.02, batch_size = 1024, num_iterations= 4_000\n",
    "#model_params_file = os.path.join('Weights_&_Bias', 'params_10.npz') # Final test accuracy: 87.9883%, Final train accuracy: 96.7285% L = 0.03, batch_size = 2048, num_iterations= 3_000\n",
    "#model_params_file = os.path.join('Weights_&_Bias', 'params_11.npz') # Final test accuracy: 90.6982%, Final train accuracy: 98.9014% L = 0.03, batch_size = 4096, num_iterations= 6_000 (Iter 5600, Test accuracy: 90.7471%, Train accuracy: 98.6328%)\n",
    "#model_params_file = os.path.join('Weights_&_Bias', 'params_12.npz') # Final test accuracy: 84.3750%, Final train accuracy: 100.0000% L = 0.02, batch_size = 512, num_iterations= 6_000 (Iter 4000, Test accuracy: 84.9609%, Train accuracy: 100.0000%)\n",
    "#model_params_file = os.path.join('Weights_&_Bias', 'params_13.npz') # Final test accuracy: 93.6646%, Final train accuracy: 98.7671% L = 0.03, batch_size = 8_192, num_iterations= 8_000\n",
    "#model_params_file = os.path.join('Weights_&_Bias', 'params_14.npz') # Final test accuracy: 94.0552%, Final train accuracy: 99.7314% L = 0.08, batch_size = 8_192, num_iterations= 4_000\n",
    "#model_params_file = os.path.join('Weights_&_Bias', 'params_15.npz') # \"\"Final test accuracy: 96.0000%, Final train accuracy: 97.0000%\"\" L = 0.1, batch_size = 16_384, num_iterations= 4_000\n",
    "#model_params_file = os.path.join('Weights_&_Bias', 'params_16.npz') # Final test accuracy: 96.4650%, Final train accuracy: 97.9550% L = 0.1, batch_size = 32_768, num_iterations= 4_000\n",
    "#model_params_file = os.path.join('Weights_&_Bias', 'params_17.npz') # Final test accuracy: 96.9700%, Final train accuracy: 98.9100% L = 0.1, batch_size = 32_768, num_iterations= 3_000 created from params_16\n",
    "\n",
    "#! Initializing the neural network parameters =============================================== \n",
    "\n",
    "#model_params_file = os.path.join('Weights_&_Bias', 'params_0.npz') # 66.42%\n",
    "#model_params_file = os.path.join('Weights_&_Bias', 'params_1.npz') # 90.85%\n",
    "#model_params_file = os.path.join('Weights_&_Bias', 'params_2.npz') # 43.26%\n",
    "#model_params_file = os.path.join('Weights_&_Bias', 'params_3.npz') # 91.77%\n",
    "#model_params_file = os.path.join('Weights_&_Bias', 'params_4.npz') # 92.10%\n",
    "#model_params_file = os.path.join('Weights_&_Bias', 'params_5.npz') # 94.29%\n",
    "#model_params_file = os.path.join('Weights_&_Bias', 'params_6.npz') # 96.02%\n",
    "#model_params_file = os.path.join('Weights_&_Bias', 'params_7.npz') # 66.30%\n",
    "#model_params_file = os.path.join('Weights_&_Bias', 'params_8.npz') # 75.95%\n",
    "#model_params_file = os.path.join('Weights_&_Bias', 'params_9.npz') # 83.89%\n",
    "#model_params_file = os.path.join('Weights_&_Bias', 'params_10.npz') # 87.89%\n",
    "#model_params_file = os.path.join('Weights_&_Bias', 'params_11.npz') # 91.15%\n",
    "#model_params_file = os.path.join('Weights_&_Bias', 'params_12.npz') # 79.89%\n",
    "#model_params_file = os.path.join('Weights_&_Bias', 'params_13.npz') # 94.16%\n",
    "#model_params_file = os.path.join('Weights_&_Bias', 'params_14.npz') # 94.62%\n",
    "#model_params_file = os.path.join('Weights_&_Bias', 'params_15.npz') # 96.56%\n",
    "#model_params_file = os.path.join('Weights_&_Bias', 'params_16.npz') # 97.48%\n",
    "model_params_file = os.path.join('Weights_&_Bias', 'params_17.npz') # 98.28%\n",
    "\n",
    "#mnist = fetch_openml('mnist_784', version=1)\n",
    "#X, Y = mnist['data'] / 255.0, mnist['target'].astype(int)\n",
    "#X = X.T\n",
    "\n",
    "data = pd.read_csv('DATA/train.csv')\n",
    "X, Y = data.iloc[:, 1:].values.T / 255, data.iloc[:, 0].values\n",
    "\n",
    "w_1, b_1, w_2, b_2, w_3, b_3 = load_model_params(model_params_file)\n",
    "\n",
    "_, _, A3 = forward_prop(X, w_1, b_1, w_2, b_2, w_3, b_3)\n",
    "y_pred = np.argmax(A3, axis=0)\n",
    "\n",
    "accuracy = accuracy_score(Y, y_pred)\n",
    "print(f\"Model accuracy on the MNIST dataset: {accuracy * 100:.2f}%\")\n"
   ]
  }
 ],
 "metadata": {
  "kernelspec": {
   "display_name": "Python 3",
   "language": "python",
   "name": "python3"
  },
  "language_info": {
   "codemirror_mode": {
    "name": "ipython",
    "version": 3
   },
   "file_extension": ".py",
   "mimetype": "text/x-python",
   "name": "python",
   "nbconvert_exporter": "python",
   "pygments_lexer": "ipython3",
   "version": "3.13.0"
  }
 },
 "nbformat": 4,
 "nbformat_minor": 2
}
